{
 "cells": [
  {
   "cell_type": "markdown",
   "metadata": {},
   "source": [
    "## SET UP"
   ]
  },
  {
   "cell_type": "code",
   "execution_count": 16,
   "metadata": {},
   "outputs": [],
   "source": [
    "import tensorflow as tf \n",
    "from tensorflow import keras\n",
    "from tensorflow.keras.applications.inception_v3 import InceptionV3\n",
    "from tensorflow.keras.preprocessing import image\n",
    "from tensorflow.keras.models import Model\n",
    "from tensorflow.keras.layers import Dense, GlobalAveragePooling2D\n",
    "import pandas as pd\n",
    "import sklearn as skl \n",
    "import numpy as np\n",
    "import os"
   ]
  },
  {
   "cell_type": "code",
   "execution_count": 17,
   "metadata": {},
   "outputs": [],
   "source": [
    "\n",
    "# load data \n",
    "train_csv = pd.read_csv(\"./train.csv\")"
   ]
  },
  {
   "cell_type": "code",
   "execution_count": 18,
   "metadata": {},
   "outputs": [
    {
     "data": {
      "text/html": [
       "<div>\n",
       "<style scoped>\n",
       "    .dataframe tbody tr th:only-of-type {\n",
       "        vertical-align: middle;\n",
       "    }\n",
       "\n",
       "    .dataframe tbody tr th {\n",
       "        vertical-align: top;\n",
       "    }\n",
       "\n",
       "    .dataframe thead th {\n",
       "        text-align: right;\n",
       "    }\n",
       "</style>\n",
       "<table border=\"1\" class=\"dataframe\">\n",
       "  <thead>\n",
       "    <tr style=\"text-align: right;\">\n",
       "      <th></th>\n",
       "      <th>image_id</th>\n",
       "      <th>label</th>\n",
       "      <th>image_width</th>\n",
       "      <th>image_height</th>\n",
       "      <th>is_tma</th>\n",
       "    </tr>\n",
       "  </thead>\n",
       "  <tbody>\n",
       "    <tr>\n",
       "      <th>0</th>\n",
       "      <td>4</td>\n",
       "      <td>HGSC</td>\n",
       "      <td>23785</td>\n",
       "      <td>20008</td>\n",
       "      <td>False</td>\n",
       "    </tr>\n",
       "    <tr>\n",
       "      <th>1</th>\n",
       "      <td>66</td>\n",
       "      <td>LGSC</td>\n",
       "      <td>48871</td>\n",
       "      <td>48195</td>\n",
       "      <td>False</td>\n",
       "    </tr>\n",
       "  </tbody>\n",
       "</table>\n",
       "</div>"
      ],
      "text/plain": [
       "   image_id label  image_width  image_height  is_tma\n",
       "0         4  HGSC        23785         20008   False\n",
       "1        66  LGSC        48871         48195   False"
      ]
     },
     "execution_count": 18,
     "metadata": {},
     "output_type": "execute_result"
    }
   ],
   "source": [
    "train_csv.head(2)"
   ]
  },
  {
   "cell_type": "code",
   "execution_count": 19,
   "metadata": {},
   "outputs": [],
   "source": [
    "# count files \n",
    "\n",
    "\n",
    "# count = 0\n",
    "# for _, _, files_list in os.walk('./train_thumbnails/'):\n",
    "#     count += len(files_list)\n",
    "# print('file count:', count)\n"
   ]
  },
  {
   "cell_type": "code",
   "execution_count": 20,
   "metadata": {},
   "outputs": [],
   "source": [
    "source = './train_thumbnails/'\n",
    "files_list = os.listdir(source)\n",
    "labels = train_csv[\"label\"].unique().tolist()\n",
    "labels_list = train_csv[\"label\"].tolist()"
   ]
  },
  {
   "cell_type": "code",
   "execution_count": 21,
   "metadata": {},
   "outputs": [],
   "source": [
    "# split images into subfolders TO BE RUN ONCE \n",
    "# import shutil\n",
    "# i=0\n",
    "# for file in files_list :\n",
    "#      if (file not in labels ):\n",
    "#         shutil.move(\n",
    "#             source + file,\n",
    "#             f'{source}{labels_list[i]}/'\n",
    "#             )\n",
    "#         i += 1"
   ]
  },
  {
   "cell_type": "code",
   "execution_count": 22,
   "metadata": {},
   "outputs": [
    {
     "name": "stdout",
     "output_type": "stream",
     "text": [
      "Found 513 files belonging to 5 classes.\n"
     ]
    }
   ],
   "source": [
    "# create data sets\n",
    "# train_dir = 'drive/MyDrive/DL_Class/DSTI_DL_project/train_thumbnails/'\n",
    "\n",
    "BATCH_SIZE = 32\n",
    "# IMG_SIZE = (160, 160)\n",
    "IMG_SIZE = (224, 224)\n",
    "\n",
    "train_dataset = tf.keras.utils.image_dataset_from_directory(source,\n",
    "                                                            labels = \"inferred\",\n",
    "                                                            shuffle=True,\n",
    "                                                            batch_size=513,\n",
    "                                                            image_size=IMG_SIZE,\n",
    "                                                            # subset =\"training\",\n",
    "                                                            # validation_split = 0.2,\n",
    "                                                            seed = 123)"
   ]
  },
  {
   "cell_type": "markdown",
   "metadata": {},
   "source": [
    "## Data visualization"
   ]
  },
  {
   "cell_type": "code",
   "execution_count": 23,
   "metadata": {},
   "outputs": [],
   "source": [
    "# import matplotlib.pyplot as plt \n",
    "# class_names = train_dataset.class_names\n",
    "\n",
    "# plt.figure(figsize=(10, 10))\n",
    "# for images, labels in train_dataset.take(1):\n",
    "#   for i in range(4):\n",
    "#     # print(class_names[labels[i]])\n",
    "#     ax = plt.subplot(2, 2, i + 1)\n",
    "#     plt.imshow(images[i].numpy().astype(\"uint8\"))\n",
    "#     plt.title(class_names[labels[i]])\n",
    "#     plt.axis(\"off\")"
   ]
  },
  {
   "cell_type": "code",
   "execution_count": 24,
   "metadata": {},
   "outputs": [],
   "source": [
    "# print('Number of validation batches: %d' % tf.data.experimental.cardinality(validation_dataset))\n",
    "# print('Number of test batches: %d' % tf.data.experimental.cardinality(test_dataset))"
   ]
  },
  {
   "cell_type": "markdown",
   "metadata": {},
   "source": [
    "## Transfert learning "
   ]
  },
  {
   "cell_type": "markdown",
   "metadata": {},
   "source": [
    "### Features extraction "
   ]
  },
  {
   "cell_type": "markdown",
   "metadata": {},
   "source": [
    "InceptionResnetV2  \n",
    "MobileNetV3   \n",
    "MobileNetV3Small   \n",
    "Xception  49%\n",
    "ResNet50 \n",
    "DenseNet121\n"
   ]
  },
  {
   "cell_type": "code",
   "execution_count": 52,
   "metadata": {},
   "outputs": [
    {
     "name": "stdout",
     "output_type": "stream",
     "text": [
      "Downloading data from https://storage.googleapis.com/tensorflow/keras-applications/densenet/densenet169_weights_tf_dim_ordering_tf_kernels_notop.h5\n",
      "51877672/51877672 [==============================] - 6s 0us/step\n"
     ]
    }
   ],
   "source": [
    "# # create the base pre-trained model\n",
    "base_model = tf.keras.applications.DenseNet169(\n",
    "    include_top=False,\n",
    "    weights=\"imagenet\",\n",
    "    input_tensor=None,\n",
    "    # input_shape=(224, 224, 3),\n",
    "    pooling=None,\n",
    "    classes=5,\n",
    "    classifier_activation=\"softmax\",\n",
    ")"
   ]
  },
  {
   "cell_type": "code",
   "execution_count": 53,
   "metadata": {},
   "outputs": [],
   "source": [
    "base_model.trainable = False"
   ]
  },
  {
   "cell_type": "code",
   "execution_count": 54,
   "metadata": {},
   "outputs": [],
   "source": [
    "preprocess_input = tf.keras.applications.densenet.preprocess_input"
   ]
  },
  {
   "cell_type": "code",
   "execution_count": 55,
   "metadata": {},
   "outputs": [
    {
     "name": "stdout",
     "output_type": "stream",
     "text": [
      "num batches : 1\n"
     ]
    }
   ],
   "source": [
    "train_batches = train_dataset.cardinality().numpy()\n",
    "# val_batches = validation_dataset.cardinality().numpy()\n",
    "\n",
    "print(f\"num batches : {train_batches}\")"
   ]
  },
  {
   "cell_type": "code",
   "execution_count": 56,
   "metadata": {},
   "outputs": [],
   "source": [
    "# reshape train data\n",
    "train_image,labels_train= next(iter(train_dataset))\n",
    "batch0 = preprocess_input(train_image)\n",
    "batch0= base_model(batch0,training = False)\n",
    "shape = batch0.shape\n",
    "features_reshaped_train = np.reshape(batch0,(-1,shape[1]*shape[2]*shape[3]))"
   ]
  },
  {
   "cell_type": "code",
   "execution_count": null,
   "metadata": {},
   "outputs": [],
   "source": [
    "# class_names = train_dataset.class_names\n",
    "# class_names"
   ]
  },
  {
   "cell_type": "code",
   "execution_count": 57,
   "metadata": {},
   "outputs": [
    {
     "data": {
      "text/plain": [
       "{0: 1.1, 1: 0.86, 2: 0.49, 3: 2.23, 4: 2.33}"
      ]
     },
     "execution_count": 57,
     "metadata": {},
     "output_type": "execute_result"
    }
   ],
   "source": [
    "# create class weights\n",
    "\n",
    "weights = skl.utils.class_weight.compute_class_weight('balanced',\n",
    "                                                      classes = [i for i in range(5)],\n",
    "                                                    #    y=[class_names[id] for id in labels_train.numpy()] )\n",
    "                                                       y=labels_train.numpy()\n",
    "                                                    )\n",
    "class_weights = {i: round(weights[i],2) for i in range(5) }\n",
    "class_weights\n"
   ]
  },
  {
   "cell_type": "code",
   "execution_count": 58,
   "metadata": {},
   "outputs": [],
   "source": [
    "# create models dict\n",
    "Models = dict()\n",
    "Scores = dict()\n"
   ]
  },
  {
   "cell_type": "code",
   "execution_count": 59,
   "metadata": {},
   "outputs": [],
   "source": [
    "# fit and score function \n",
    "def fit_and_score(model,X_train,y_train,X_test,y_test):\n",
    "    fit = model.fit(X_train,y_train)\n",
    "    score = fit.score(X_test,y_test)\n",
    "    return(score)"
   ]
  },
  {
   "cell_type": "code",
   "execution_count": 60,
   "metadata": {},
   "outputs": [],
   "source": [
    "\n",
    "# split data\n",
    "from sklearn.model_selection import train_test_split\n",
    "from sklearn.linear_model import LogisticRegression\n",
    "\n",
    "# y = [class_names[id] for id in labels_train.numpy()]  \n",
    "\n",
    "X_train, X_test, y_train, y_test = train_test_split(features_reshaped_train,\n",
    "                                                    labels_train.numpy(),\n",
    "                                                    # y,\n",
    "                                                    test_size=0.2, \n",
    "                                                    random_state=2020)"
   ]
  },
  {
   "cell_type": "code",
   "execution_count": 61,
   "metadata": {},
   "outputs": [],
   "source": [
    "#imports \n",
    "from sklearn import linear_model\n",
    "from sklearn.linear_model import LogisticRegressionCV\n",
    "from sklearn import tree"
   ]
  },
  {
   "cell_type": "code",
   "execution_count": 72,
   "metadata": {},
   "outputs": [],
   "source": [
    "# Models dict\n",
    "# glm\n",
    "Models[\"glm\"] = LogisticRegression(max_iter = 1000,class_weight=class_weights,\n",
    "                                   random_state=2020)\n",
    "# logr reg CV\n",
    "Models[\"logRegCV\"] = LogisticRegressionCV(cv = 5,max_iter = 1000,\n",
    "                                          class_weight=class_weights,random_state=2020)\n",
    "# ridge classifier \n",
    "Models[\"ridgeClf\"]= linear_model.RidgeClassifier(alpha=.5,max_iter = 500,\n",
    "                                                 class_weight=class_weights,random_state=2020)\n",
    "# ridge classifier CV\n",
    "Models[\"ridgeCV\"]= linear_model.RidgeClassifierCV(alphas = [0.1,0.2,0.3,0.4,0.5,0.6],\n",
    "                                                  cv = 10,class_weight=class_weights,)\n",
    "\n",
    "# Decision tree\n",
    "Models[\"DT\"] = tree.DecisionTreeClassifier(random_state=2020)\n"
   ]
  },
  {
   "cell_type": "code",
   "execution_count": 73,
   "metadata": {},
   "outputs": [
    {
     "name": "stdout",
     "output_type": "stream",
     "text": [
      "glm\n",
      "logRegCV\n",
      "ridgeClf\n"
     ]
    },
    {
     "name": "stderr",
     "output_type": "stream",
     "text": [
      "/Users/mpaga/python/envs/DL/lib/python3.11/site-packages/sklearn/linear_model/_ridge.py:237: LinAlgWarning: Ill-conditioned matrix (rcond=5.95686e-08): result may not be accurate.\n",
      "  dual_coef = linalg.solve(K, y, assume_a=\"pos\", overwrite_a=False)\n"
     ]
    },
    {
     "name": "stdout",
     "output_type": "stream",
     "text": [
      "ridgeCV\n"
     ]
    },
    {
     "name": "stderr",
     "output_type": "stream",
     "text": [
      "/Users/mpaga/python/envs/DL/lib/python3.11/site-packages/sklearn/linear_model/_ridge.py:237: LinAlgWarning: Ill-conditioned matrix (rcond=1.17737e-08): result may not be accurate.\n",
      "  dual_coef = linalg.solve(K, y, assume_a=\"pos\", overwrite_a=False)\n",
      "/Users/mpaga/python/envs/DL/lib/python3.11/site-packages/sklearn/linear_model/_ridge.py:237: LinAlgWarning: Ill-conditioned matrix (rcond=1.21988e-08): result may not be accurate.\n",
      "  dual_coef = linalg.solve(K, y, assume_a=\"pos\", overwrite_a=False)\n",
      "/Users/mpaga/python/envs/DL/lib/python3.11/site-packages/sklearn/linear_model/_ridge.py:237: LinAlgWarning: Ill-conditioned matrix (rcond=1.15756e-08): result may not be accurate.\n",
      "  dual_coef = linalg.solve(K, y, assume_a=\"pos\", overwrite_a=False)\n",
      "/Users/mpaga/python/envs/DL/lib/python3.11/site-packages/sklearn/linear_model/_ridge.py:237: LinAlgWarning: Ill-conditioned matrix (rcond=1.08644e-08): result may not be accurate.\n",
      "  dual_coef = linalg.solve(K, y, assume_a=\"pos\", overwrite_a=False)\n",
      "/Users/mpaga/python/envs/DL/lib/python3.11/site-packages/sklearn/linear_model/_ridge.py:237: LinAlgWarning: Ill-conditioned matrix (rcond=1.18383e-08): result may not be accurate.\n",
      "  dual_coef = linalg.solve(K, y, assume_a=\"pos\", overwrite_a=False)\n",
      "/Users/mpaga/python/envs/DL/lib/python3.11/site-packages/sklearn/linear_model/_ridge.py:237: LinAlgWarning: Ill-conditioned matrix (rcond=1.1285e-08): result may not be accurate.\n",
      "  dual_coef = linalg.solve(K, y, assume_a=\"pos\", overwrite_a=False)\n",
      "/Users/mpaga/python/envs/DL/lib/python3.11/site-packages/sklearn/linear_model/_ridge.py:237: LinAlgWarning: Ill-conditioned matrix (rcond=1.07547e-08): result may not be accurate.\n",
      "  dual_coef = linalg.solve(K, y, assume_a=\"pos\", overwrite_a=False)\n",
      "/Users/mpaga/python/envs/DL/lib/python3.11/site-packages/sklearn/linear_model/_ridge.py:237: LinAlgWarning: Ill-conditioned matrix (rcond=1.26751e-08): result may not be accurate.\n",
      "  dual_coef = linalg.solve(K, y, assume_a=\"pos\", overwrite_a=False)\n",
      "/Users/mpaga/python/envs/DL/lib/python3.11/site-packages/sklearn/linear_model/_ridge.py:237: LinAlgWarning: Ill-conditioned matrix (rcond=1.20103e-08): result may not be accurate.\n",
      "  dual_coef = linalg.solve(K, y, assume_a=\"pos\", overwrite_a=False)\n",
      "/Users/mpaga/python/envs/DL/lib/python3.11/site-packages/sklearn/linear_model/_ridge.py:237: LinAlgWarning: Ill-conditioned matrix (rcond=1.14703e-08): result may not be accurate.\n",
      "  dual_coef = linalg.solve(K, y, assume_a=\"pos\", overwrite_a=False)\n",
      "/Users/mpaga/python/envs/DL/lib/python3.11/site-packages/sklearn/linear_model/_ridge.py:237: LinAlgWarning: Ill-conditioned matrix (rcond=2.56656e-08): result may not be accurate.\n",
      "  dual_coef = linalg.solve(K, y, assume_a=\"pos\", overwrite_a=False)\n",
      "/Users/mpaga/python/envs/DL/lib/python3.11/site-packages/sklearn/linear_model/_ridge.py:237: LinAlgWarning: Ill-conditioned matrix (rcond=2.58197e-08): result may not be accurate.\n",
      "  dual_coef = linalg.solve(K, y, assume_a=\"pos\", overwrite_a=False)\n",
      "/Users/mpaga/python/envs/DL/lib/python3.11/site-packages/sklearn/linear_model/_ridge.py:237: LinAlgWarning: Ill-conditioned matrix (rcond=2.52928e-08): result may not be accurate.\n",
      "  dual_coef = linalg.solve(K, y, assume_a=\"pos\", overwrite_a=False)\n",
      "/Users/mpaga/python/envs/DL/lib/python3.11/site-packages/sklearn/linear_model/_ridge.py:237: LinAlgWarning: Ill-conditioned matrix (rcond=2.43382e-08): result may not be accurate.\n",
      "  dual_coef = linalg.solve(K, y, assume_a=\"pos\", overwrite_a=False)\n",
      "/Users/mpaga/python/envs/DL/lib/python3.11/site-packages/sklearn/linear_model/_ridge.py:237: LinAlgWarning: Ill-conditioned matrix (rcond=2.55425e-08): result may not be accurate.\n",
      "  dual_coef = linalg.solve(K, y, assume_a=\"pos\", overwrite_a=False)\n",
      "/Users/mpaga/python/envs/DL/lib/python3.11/site-packages/sklearn/linear_model/_ridge.py:237: LinAlgWarning: Ill-conditioned matrix (rcond=2.5286e-08): result may not be accurate.\n",
      "  dual_coef = linalg.solve(K, y, assume_a=\"pos\", overwrite_a=False)\n",
      "/Users/mpaga/python/envs/DL/lib/python3.11/site-packages/sklearn/linear_model/_ridge.py:237: LinAlgWarning: Ill-conditioned matrix (rcond=2.52208e-08): result may not be accurate.\n",
      "  dual_coef = linalg.solve(K, y, assume_a=\"pos\", overwrite_a=False)\n",
      "/Users/mpaga/python/envs/DL/lib/python3.11/site-packages/sklearn/linear_model/_ridge.py:237: LinAlgWarning: Ill-conditioned matrix (rcond=2.63724e-08): result may not be accurate.\n",
      "  dual_coef = linalg.solve(K, y, assume_a=\"pos\", overwrite_a=False)\n",
      "/Users/mpaga/python/envs/DL/lib/python3.11/site-packages/sklearn/linear_model/_ridge.py:237: LinAlgWarning: Ill-conditioned matrix (rcond=2.57722e-08): result may not be accurate.\n",
      "  dual_coef = linalg.solve(K, y, assume_a=\"pos\", overwrite_a=False)\n",
      "/Users/mpaga/python/envs/DL/lib/python3.11/site-packages/sklearn/linear_model/_ridge.py:237: LinAlgWarning: Ill-conditioned matrix (rcond=2.52673e-08): result may not be accurate.\n",
      "  dual_coef = linalg.solve(K, y, assume_a=\"pos\", overwrite_a=False)\n",
      "/Users/mpaga/python/envs/DL/lib/python3.11/site-packages/sklearn/linear_model/_ridge.py:237: LinAlgWarning: Ill-conditioned matrix (rcond=3.86716e-08): result may not be accurate.\n",
      "  dual_coef = linalg.solve(K, y, assume_a=\"pos\", overwrite_a=False)\n",
      "/Users/mpaga/python/envs/DL/lib/python3.11/site-packages/sklearn/linear_model/_ridge.py:237: LinAlgWarning: Ill-conditioned matrix (rcond=3.93987e-08): result may not be accurate.\n",
      "  dual_coef = linalg.solve(K, y, assume_a=\"pos\", overwrite_a=False)\n",
      "/Users/mpaga/python/envs/DL/lib/python3.11/site-packages/sklearn/linear_model/_ridge.py:237: LinAlgWarning: Ill-conditioned matrix (rcond=3.93732e-08): result may not be accurate.\n",
      "  dual_coef = linalg.solve(K, y, assume_a=\"pos\", overwrite_a=False)\n",
      "/Users/mpaga/python/envs/DL/lib/python3.11/site-packages/sklearn/linear_model/_ridge.py:237: LinAlgWarning: Ill-conditioned matrix (rcond=3.77379e-08): result may not be accurate.\n",
      "  dual_coef = linalg.solve(K, y, assume_a=\"pos\", overwrite_a=False)\n",
      "/Users/mpaga/python/envs/DL/lib/python3.11/site-packages/sklearn/linear_model/_ridge.py:237: LinAlgWarning: Ill-conditioned matrix (rcond=3.92943e-08): result may not be accurate.\n",
      "  dual_coef = linalg.solve(K, y, assume_a=\"pos\", overwrite_a=False)\n",
      "/Users/mpaga/python/envs/DL/lib/python3.11/site-packages/sklearn/linear_model/_ridge.py:237: LinAlgWarning: Ill-conditioned matrix (rcond=3.94464e-08): result may not be accurate.\n",
      "  dual_coef = linalg.solve(K, y, assume_a=\"pos\", overwrite_a=False)\n",
      "/Users/mpaga/python/envs/DL/lib/python3.11/site-packages/sklearn/linear_model/_ridge.py:237: LinAlgWarning: Ill-conditioned matrix (rcond=3.86804e-08): result may not be accurate.\n",
      "  dual_coef = linalg.solve(K, y, assume_a=\"pos\", overwrite_a=False)\n",
      "/Users/mpaga/python/envs/DL/lib/python3.11/site-packages/sklearn/linear_model/_ridge.py:237: LinAlgWarning: Ill-conditioned matrix (rcond=4.03644e-08): result may not be accurate.\n",
      "  dual_coef = linalg.solve(K, y, assume_a=\"pos\", overwrite_a=False)\n",
      "/Users/mpaga/python/envs/DL/lib/python3.11/site-packages/sklearn/linear_model/_ridge.py:237: LinAlgWarning: Ill-conditioned matrix (rcond=3.96557e-08): result may not be accurate.\n",
      "  dual_coef = linalg.solve(K, y, assume_a=\"pos\", overwrite_a=False)\n",
      "/Users/mpaga/python/envs/DL/lib/python3.11/site-packages/sklearn/linear_model/_ridge.py:237: LinAlgWarning: Ill-conditioned matrix (rcond=3.95618e-08): result may not be accurate.\n",
      "  dual_coef = linalg.solve(K, y, assume_a=\"pos\", overwrite_a=False)\n",
      "/Users/mpaga/python/envs/DL/lib/python3.11/site-packages/sklearn/linear_model/_ridge.py:237: LinAlgWarning: Ill-conditioned matrix (rcond=5.23375e-08): result may not be accurate.\n",
      "  dual_coef = linalg.solve(K, y, assume_a=\"pos\", overwrite_a=False)\n",
      "/Users/mpaga/python/envs/DL/lib/python3.11/site-packages/sklearn/linear_model/_ridge.py:237: LinAlgWarning: Ill-conditioned matrix (rcond=5.33147e-08): result may not be accurate.\n",
      "  dual_coef = linalg.solve(K, y, assume_a=\"pos\", overwrite_a=False)\n",
      "/Users/mpaga/python/envs/DL/lib/python3.11/site-packages/sklearn/linear_model/_ridge.py:237: LinAlgWarning: Ill-conditioned matrix (rcond=5.25741e-08): result may not be accurate.\n",
      "  dual_coef = linalg.solve(K, y, assume_a=\"pos\", overwrite_a=False)\n",
      "/Users/mpaga/python/envs/DL/lib/python3.11/site-packages/sklearn/linear_model/_ridge.py:237: LinAlgWarning: Ill-conditioned matrix (rcond=5.12555e-08): result may not be accurate.\n",
      "  dual_coef = linalg.solve(K, y, assume_a=\"pos\", overwrite_a=False)\n",
      "/Users/mpaga/python/envs/DL/lib/python3.11/site-packages/sklearn/linear_model/_ridge.py:237: LinAlgWarning: Ill-conditioned matrix (rcond=5.2975e-08): result may not be accurate.\n",
      "  dual_coef = linalg.solve(K, y, assume_a=\"pos\", overwrite_a=False)\n",
      "/Users/mpaga/python/envs/DL/lib/python3.11/site-packages/sklearn/linear_model/_ridge.py:237: LinAlgWarning: Ill-conditioned matrix (rcond=5.30294e-08): result may not be accurate.\n",
      "  dual_coef = linalg.solve(K, y, assume_a=\"pos\", overwrite_a=False)\n",
      "/Users/mpaga/python/envs/DL/lib/python3.11/site-packages/sklearn/linear_model/_ridge.py:237: LinAlgWarning: Ill-conditioned matrix (rcond=5.29987e-08): result may not be accurate.\n",
      "  dual_coef = linalg.solve(K, y, assume_a=\"pos\", overwrite_a=False)\n",
      "/Users/mpaga/python/envs/DL/lib/python3.11/site-packages/sklearn/linear_model/_ridge.py:237: LinAlgWarning: Ill-conditioned matrix (rcond=5.47396e-08): result may not be accurate.\n",
      "  dual_coef = linalg.solve(K, y, assume_a=\"pos\", overwrite_a=False)\n",
      "/Users/mpaga/python/envs/DL/lib/python3.11/site-packages/sklearn/linear_model/_ridge.py:237: LinAlgWarning: Ill-conditioned matrix (rcond=5.36442e-08): result may not be accurate.\n",
      "  dual_coef = linalg.solve(K, y, assume_a=\"pos\", overwrite_a=False)\n",
      "/Users/mpaga/python/envs/DL/lib/python3.11/site-packages/sklearn/linear_model/_ridge.py:237: LinAlgWarning: Ill-conditioned matrix (rcond=5.34562e-08): result may not be accurate.\n",
      "  dual_coef = linalg.solve(K, y, assume_a=\"pos\", overwrite_a=False)\n",
      "/Users/mpaga/python/envs/DL/lib/python3.11/site-packages/sklearn/linear_model/_ridge.py:237: LinAlgWarning: Ill-conditioned matrix (rcond=9.88945e-09): result may not be accurate.\n",
      "  dual_coef = linalg.solve(K, y, assume_a=\"pos\", overwrite_a=False)\n"
     ]
    },
    {
     "name": "stdout",
     "output_type": "stream",
     "text": [
      "DT\n"
     ]
    }
   ],
   "source": [
    "#fit and score \n",
    "for model_keys in Models:\n",
    "    print(model_keys)\n",
    "    model = Models[model_keys] \n",
    "    Scores[model_keys] = fit_and_score(model,X_train,y_train,X_test,y_test)"
   ]
  },
  {
   "cell_type": "code",
   "execution_count": 69,
   "metadata": {},
   "outputs": [
    {
     "data": {
      "text/html": [
       "<div>\n",
       "<style scoped>\n",
       "    .dataframe tbody tr th:only-of-type {\n",
       "        vertical-align: middle;\n",
       "    }\n",
       "\n",
       "    .dataframe tbody tr th {\n",
       "        vertical-align: top;\n",
       "    }\n",
       "\n",
       "    .dataframe thead th {\n",
       "        text-align: right;\n",
       "    }\n",
       "</style>\n",
       "<table border=\"1\" class=\"dataframe\">\n",
       "  <thead>\n",
       "    <tr style=\"text-align: right;\">\n",
       "      <th></th>\n",
       "      <th>scores</th>\n",
       "    </tr>\n",
       "  </thead>\n",
       "  <tbody>\n",
       "    <tr>\n",
       "      <th>ridgeClf</th>\n",
       "      <td>0.300971</td>\n",
       "    </tr>\n",
       "    <tr>\n",
       "      <th>ridgeCV</th>\n",
       "      <td>0.300971</td>\n",
       "    </tr>\n",
       "    <tr>\n",
       "      <th>glm</th>\n",
       "      <td>0.291262</td>\n",
       "    </tr>\n",
       "    <tr>\n",
       "      <th>logRegCV</th>\n",
       "      <td>0.271845</td>\n",
       "    </tr>\n",
       "    <tr>\n",
       "      <th>DT</th>\n",
       "      <td>0.233010</td>\n",
       "    </tr>\n",
       "  </tbody>\n",
       "</table>\n",
       "</div>"
      ],
      "text/plain": [
       "            scores\n",
       "ridgeClf  0.300971\n",
       "ridgeCV   0.300971\n",
       "glm       0.291262\n",
       "logRegCV  0.271845\n",
       "DT        0.233010"
      ]
     },
     "execution_count": 69,
     "metadata": {},
     "output_type": "execute_result"
    }
   ],
   "source": [
    "# scores df\n",
    "scores_df = pd.DataFrame(Scores.values(),\n",
    "             index = Models.keys(),\n",
    "             columns = [\"scores\"]\n",
    "             )\n",
    "(scores_df.sort_values(by =\"scores\",ascending=False)\n",
    ".head(2)\n",
    ")"
   ]
  },
  {
   "cell_type": "code",
   "execution_count": null,
   "metadata": {},
   "outputs": [],
   "source": [
    "\n",
    "# print(\"pred:\",fit.predict(X_test).tolist())\n",
    "# print(\"true:\",[y_test[i] for i in range(len(y_test))])"
   ]
  },
  {
   "cell_type": "code",
   "execution_count": 65,
   "metadata": {},
   "outputs": [
    {
     "data": {
      "text/plain": [
       "0"
      ]
     },
     "execution_count": 65,
     "metadata": {},
     "output_type": "execute_result"
    }
   ],
   "source": [
    "os.system('say \"end of features extraction\" ')"
   ]
  },
  {
   "cell_type": "markdown",
   "metadata": {},
   "source": [
    "### Freezing base model and training"
   ]
  },
  {
   "cell_type": "code",
   "execution_count": 24,
   "metadata": {},
   "outputs": [
    {
     "name": "stdout",
     "output_type": "stream",
     "text": [
      "Found 513 files belonging to 5 classes.\n",
      "Using 411 files for training.\n"
     ]
    }
   ],
   "source": [
    "# create data sets\n",
    "# train_dir = 'drive/MyDrive/DL_Class/DSTI_DL_project/train_thumbnails/'\n",
    "\n",
    "BATCH_SIZE = 32\n",
    "# IMG_SIZE = (160, 160)\n",
    "IMG_SIZE = (224, 224)\n",
    "\n",
    "train_dataset = tf.keras.utils.image_dataset_from_directory(source,\n",
    "                                                            labels = \"inferred\",\n",
    "                                                            shuffle=True,\n",
    "                                                            batch_size=BATCH_SIZE,\n",
    "                                                            image_size=IMG_SIZE,\n",
    "                                                            subset =\"training\",\n",
    "                                                            validation_split = 0.2,\n",
    "                                                            seed = 123)"
   ]
  },
  {
   "cell_type": "code",
   "execution_count": 25,
   "metadata": {},
   "outputs": [
    {
     "name": "stdout",
     "output_type": "stream",
     "text": [
      "Found 513 files belonging to 5 classes.\n",
      "Using 102 files for validation.\n"
     ]
    }
   ],
   "source": [
    "validation_dataset = tf.keras.utils.image_dataset_from_directory(source,\n",
    "                                                                 shuffle=True,\n",
    "                                                                 batch_size=BATCH_SIZE,\n",
    "                                                                 image_size=IMG_SIZE,\n",
    "                                                                 subset = \"validation\",\n",
    "                                                                 validation_split = 0.2,\n",
    "                                                            seed = 123)"
   ]
  },
  {
   "cell_type": "code",
   "execution_count": 27,
   "metadata": {},
   "outputs": [],
   "source": [
    "# test dataset\n",
    "val_batches = tf.data.experimental.cardinality(validation_dataset)\n",
    "test_dataset = validation_dataset.take(val_batches // 2)\n",
    "validation_dataset = validation_dataset.skip(val_batches // 2)"
   ]
  },
  {
   "cell_type": "code",
   "execution_count": 28,
   "metadata": {},
   "outputs": [],
   "source": [
    "# Configure datasets for perf\n",
    "AUTOTUNE = tf.data.AUTOTUNE\n",
    "\n",
    "train_dataset = train_dataset.prefetch(buffer_size=AUTOTUNE)\n",
    "validation_dataset = validation_dataset.prefetch(buffer_size=AUTOTUNE)\n",
    "test_dataset = test_dataset.prefetch(buffer_size=AUTOTUNE)"
   ]
  },
  {
   "cell_type": "code",
   "execution_count": 29,
   "metadata": {},
   "outputs": [],
   "source": [
    "#  augmentation layers\n",
    "data_augmentation = tf.keras.Sequential([\n",
    "tf.keras.layers.RandomFlip('horizontal'),\n",
    "tf.keras.layers.RandomFlip('vertical'),\n",
    "tf.keras.layers.RandomFlip('horizontal_and_vertical'),\n",
    "tf.keras.layers.RandomRotation(factor=0.2),\n",
    "tf.keras.layers.RandomBrightness(0.2),\n",
    "#new added layers\n",
    "tf.keras.layers.RandomCrop(IMG_SIZE[0], IMG_SIZE[1]),\n",
    "tf.keras.layers.Rescaling(scale=1.0 / 127.5, offset=-1),\n",
    "tf.keras.layers.RandomZoom(height_factor=0.1, width_factor=0.1)\n",
    "])"
   ]
  },
  {
   "cell_type": "code",
   "execution_count": 30,
   "metadata": {},
   "outputs": [],
   "source": [
    "# add a global spatial average pooling layer\n",
    "inputs = keras.Input(shape=(224, 224, 3))\n",
    "x = data_augmentation(inputs)\n",
    "x = preprocess_input(x)\n",
    "x = base_model(x,training = False)\n",
    "x = GlobalAveragePooling2D()(x)\n",
    "# x = Dense(1024, activation='relu')(x)\n",
    "# x = tf.keras.layers.Dropout(0.3)(x)\n",
    "predictions = Dense(5, activation='softmax')(x)\n"
   ]
  },
  {
   "cell_type": "code",
   "execution_count": 31,
   "metadata": {},
   "outputs": [],
   "source": [
    "# this is the model we will train\n",
    "model = Model(inputs= inputs, outputs=predictions)"
   ]
  },
  {
   "cell_type": "code",
   "execution_count": 32,
   "metadata": {},
   "outputs": [
    {
     "data": {
      "text/plain": [
       "2"
      ]
     },
     "execution_count": 32,
     "metadata": {},
     "output_type": "execute_result"
    }
   ],
   "source": [
    "len(model.trainable_variables)"
   ]
  },
  {
   "cell_type": "code",
   "execution_count": 33,
   "metadata": {},
   "outputs": [],
   "source": [
    "# compile model \n",
    "base_learning_rate = 1e-6\n",
    "model.compile(tf.keras.optimizers.RMSprop(learning_rate=base_learning_rate),\n",
    "# optimizer=tf.keras.optimizers.Adam(learning_rate=base_learning_rate),\n",
    "              loss=tf.keras.losses.SparseCategoricalCrossentropy(from_logits=False),\n",
    "              metrics=\"accuracy\")\n",
    "\n",
    "# tensorboard \n",
    "import datetime\n",
    "log_dir = \"logs/fit/\" + datetime.datetime.now().strftime(\"%Y%m%d-%H%M%S\")\n",
    "tensorboard_callback = tf.keras.callbacks.TensorBoard(\n",
    "    log_dir=log_dir,\n",
    "    histogram_freq=1) # Enable histogram computation for every epoch."
   ]
  },
  {
   "cell_type": "code",
   "execution_count": 34,
   "metadata": {},
   "outputs": [
    {
     "name": "stdout",
     "output_type": "stream",
     "text": [
      "2/2 [==============================] - 12s 519ms/step - loss: 1.8241 - accuracy: 0.2895\n"
     ]
    }
   ],
   "source": [
    "initial_epochs =10\n",
    "\n",
    "loss0,accuracy0 = model.evaluate(validation_dataset)"
   ]
  },
  {
   "cell_type": "code",
   "execution_count": 35,
   "metadata": {},
   "outputs": [],
   "source": [
    "# first: train only the top layers (which were randomly initialized)\n",
    "# i.e. freeze all convolutional InceptionV3 layers\n",
    "# for layer in base_model.layers:\n",
    "#     layer.trainable = False\n"
   ]
  },
  {
   "cell_type": "code",
   "execution_count": 36,
   "metadata": {},
   "outputs": [
    {
     "name": "stdout",
     "output_type": "stream",
     "text": [
      "Epoch 1/10\n",
      "13/13 [==============================] - 76s 4s/step - loss: 1.6148 - accuracy: 0.3844 - val_loss: 1.6476 - val_accuracy: 0.2632\n",
      "Epoch 2/10\n",
      "13/13 [==============================] - 69s 4s/step - loss: 1.6158 - accuracy: 0.3771 - val_loss: 1.5909 - val_accuracy: 0.3158\n",
      "Epoch 3/10\n",
      "13/13 [==============================] - 68s 4s/step - loss: 1.6182 - accuracy: 0.3674 - val_loss: 1.5311 - val_accuracy: 0.3684\n",
      "Epoch 4/10\n",
      "13/13 [==============================] - 68s 4s/step - loss: 1.6255 - accuracy: 0.3650 - val_loss: 1.6732 - val_accuracy: 0.1842\n",
      "Epoch 5/10\n",
      "13/13 [==============================] - 69s 4s/step - loss: 1.6199 - accuracy: 0.3796 - val_loss: 1.6571 - val_accuracy: 0.2632\n",
      "Epoch 6/10\n",
      "13/13 [==============================] - 68s 4s/step - loss: 1.6265 - accuracy: 0.3552 - val_loss: 1.8113 - val_accuracy: 0.2368\n",
      "Epoch 7/10\n",
      "13/13 [==============================] - 68s 4s/step - loss: 1.6131 - accuracy: 0.3747 - val_loss: 1.7664 - val_accuracy: 0.2895\n",
      "Epoch 8/10\n",
      "13/13 [==============================] - 68s 4s/step - loss: 1.6200 - accuracy: 0.3771 - val_loss: 1.7007 - val_accuracy: 0.2632\n",
      "Epoch 9/10\n",
      "13/13 [==============================] - 68s 4s/step - loss: 1.6091 - accuracy: 0.3917 - val_loss: 1.7761 - val_accuracy: 0.1842\n",
      "Epoch 10/10\n",
      "13/13 [==============================] - 77s 5s/step - loss: 1.6116 - accuracy: 0.3674 - val_loss: 1.5899 - val_accuracy: 0.3684\n"
     ]
    }
   ],
   "source": [
    "# train the model on the new data for a few epochs\n",
    "history = model.fit(train_dataset,\n",
    "          epochs=initial_epochs,\n",
    "          validation_data = validation_dataset,\n",
    "          callbacks=tensorboard_callback,\n",
    "          use_multiprocessing=True)\n"
   ]
  },
  {
   "cell_type": "markdown",
   "metadata": {},
   "source": [
    "### learning curve "
   ]
  },
  {
   "cell_type": "code",
   "execution_count": 37,
   "metadata": {},
   "outputs": [
    {
     "data": {
      "image/png": "[encoded data removed]",
      "text/plain": [
       "<Figure size 1000x400 with 2 Axes>"
      ]
     },
     "metadata": {},
     "output_type": "display_data"
    }
   ],
   "source": [
    "# plot training and validation metrics\n",
    "import matplotlib.pyplot as plt\n",
    "acc = history.history['accuracy']\n",
    "val_acc = history.history['val_accuracy']\n",
    "\n",
    "loss = history.history['loss']\n",
    "val_loss = history.history['val_loss']\n",
    "\n",
    "plt.figure(figsize=(10, 4))\n",
    "plt.subplot(1, 2, 1)\n",
    "plt.plot(acc, label='Training Accuracy')\n",
    "plt.plot(val_acc, label='Validation Accuracy')\n",
    "plt.legend(loc='upper right')\n",
    "plt.ylabel('Accuracy')\n",
    "plt.ylim([min(plt.ylim()),1])\n",
    "plt.title('Training and Validation Accuracy')\n",
    "\n",
    "plt.subplot(1, 2, 2)\n",
    "plt.plot(loss, label='Training Loss')\n",
    "plt.plot(val_loss, label='Validation Loss')\n",
    "plt.legend(loc='upper right')\n",
    "plt.ylabel('Cross Entropy')\n",
    "plt.ylim([0,10])\n",
    "plt.title('Training and Validation Loss')\n",
    "plt.xlabel('epoch')\n",
    "plt.show()"
   ]
  },
  {
   "cell_type": "code",
   "execution_count": 38,
   "metadata": {},
   "outputs": [
    {
     "data": {
      "text/plain": [
       "0"
      ]
     },
     "execution_count": 38,
     "metadata": {},
     "output_type": "execute_result"
    }
   ],
   "source": [
    "\n",
    "os.system('say \"end tranfert learning\" ')"
   ]
  },
  {
   "cell_type": "markdown",
   "metadata": {},
   "source": [
    "### Fine-tuning "
   ]
  },
  {
   "cell_type": "code",
   "execution_count": 39,
   "metadata": {},
   "outputs": [],
   "source": [
    "# un-freeze model weights\n",
    "base_model.trainable = True"
   ]
  },
  {
   "cell_type": "code",
   "execution_count": 40,
   "metadata": {},
   "outputs": [
    {
     "name": "stdout",
     "output_type": "stream",
     "text": [
      "427\n"
     ]
    }
   ],
   "source": [
    "n_layers = len(base_model.layers)\n",
    "print(n_layers)\n"
   ]
  },
  {
   "cell_type": "code",
   "execution_count": 41,
   "metadata": {},
   "outputs": [
    {
     "data": {
      "text/plain": [
       "284"
      ]
     },
     "execution_count": 41,
     "metadata": {},
     "output_type": "execute_result"
    }
   ],
   "source": [
    "n_layers*9//10"
   ]
  },
  {
   "cell_type": "code",
   "execution_count": 42,
   "metadata": {},
   "outputs": [],
   "source": [
    "\n",
    "# we chose to train the top 2 inception blocks, i.e. we will freeze\n",
    "# the first 249 layers and unfreeze the rest:\n",
    "n_trainable_layers = n_layers*9//10\n",
    "for layer in model.layers[:n_trainable_layers]:\n",
    "   layer.trainable = False\n",
    "for layer in model.layers[n_trainable_layers:]:\n",
    "   layer.trainable = True\n"
   ]
  },
  {
   "cell_type": "markdown",
   "metadata": {},
   "source": [
    "#### Recompile model"
   ]
  },
  {
   "cell_type": "code",
   "execution_count": null,
   "metadata": {},
   "outputs": [],
   "source": [
    "# from tensorflow.keras.optimizers import SGD\n",
    "model.compile(optimizer=tf.keras.optimizers.SGD(learning_rate=base_learning_rate/10), \n",
    "              loss=tf.keras.losses.SparseCategoricalCrossentropy(from_logits=False),\n",
    "              metrics = \"accuracy\")\n",
    "\n",
    "# we train our model again (this time fine-tuning the top 2 inception blocks\n",
    "# alongside the top Dense layers\n",
    "fine_tune_epochs = 10\n",
    "total_epochs = initial_epochs + fine_tune_epochs\n",
    "history_fine = model.fit(train_dataset,\n",
    "          epochs=total_epochs,\n",
    "          initial_epoch = history.epoch[-1],\n",
    "          validation_data = validation_dataset,\n",
    "          callbacks=tensorboard_callback,\n",
    "          use_multiprocessing=True)"
   ]
  },
  {
   "cell_type": "code",
   "execution_count": 44,
   "metadata": {},
   "outputs": [],
   "source": [
    "acc += history_fine.history['accuracy']\n",
    "val_acc += history_fine.history['val_accuracy']\n",
    "\n",
    "loss += history_fine.history['loss']\n",
    "val_loss += history_fine.history['val_loss']"
   ]
  },
  {
   "cell_type": "code",
   "execution_count": 45,
   "metadata": {},
   "outputs": [
    {
     "data": {
      "image/png": "[encoded data removed]",
      "text/plain": [
       "<Figure size 800x800 with 2 Axes>"
      ]
     },
     "metadata": {},
     "output_type": "display_data"
    }
   ],
   "source": [
    "# plot training and validation metrics\n",
    "import matplotlib.pyplot as plt\n",
    "# acc = history.history['accuracy']\n",
    "# val_acc = history.history['val_accuracy']\n",
    "\n",
    "# loss = history.history['loss']\n",
    "# val_loss = history.history['val_loss']\n",
    "\n",
    "plt.figure(figsize=(8, 8))\n",
    "plt.subplot(2, 1, 1)\n",
    "plt.plot(acc, label='Training Accuracy')\n",
    "plt.plot(val_acc, label='Validation Accuracy')\n",
    "# plt.ylim([0.8, 1])\n",
    "plt.plot([initial_epochs-1,initial_epochs-1],\n",
    "          plt.ylim(), label='Start Fine Tuning')\n",
    "plt.legend(loc='lower right')\n",
    "plt.title('Training and Validation Accuracy')\n",
    "\n",
    "plt.subplot(2, 1, 2)\n",
    "plt.plot(loss, label='Training Loss')\n",
    "plt.plot(val_loss, label='Validation Loss')\n",
    "# plt.ylim([0, 1.0])\n",
    "plt.plot([initial_epochs-1,initial_epochs-1],\n",
    "         plt.ylim(), label='Start Fine Tuning')\n",
    "plt.legend(loc='upper right')\n",
    "plt.title('Training and Validation Loss')\n",
    "plt.xlabel('epoch')\n",
    "plt.show()"
   ]
  },
  {
   "cell_type": "code",
   "execution_count": 46,
   "metadata": {},
   "outputs": [],
   "source": [
    "# loss, accuracy = model.evaluate(test_dataset)\n",
    "# print('Test accuracy :', accuracy)"
   ]
  },
  {
   "cell_type": "code",
   "execution_count": 47,
   "metadata": {},
   "outputs": [],
   "source": [
    "test_image_batch,test_label_batch = next(iter(test_dataset))"
   ]
  },
  {
   "cell_type": "code",
   "execution_count": 48,
   "metadata": {
    "tags": [
     "Predictions"
    ]
   },
   "outputs": [
    {
     "name": "stderr",
     "output_type": "stream",
     "text": [
      "2023-11-26 07:28:08.885759: W tensorflow/core/grappler/optimizers/loop_optimizer.cc:933] Skipping loop optimization for Merge node with control input: model/sequential/random_crop/cond/branch_executed/_10\n"
     ]
    },
    {
     "name": "stdout",
     "output_type": "stream",
     "text": [
      "1/1 [==============================] - 7s 7s/step\n",
      "test labels: ['EC', 'HGSC', 'LGSC', 'EC', 'CC', 'EC', 'EC', 'LGSC', 'EC', 'EC', 'EC', 'EC', 'EC', 'HGSC', 'MC', 'LGSC', 'EC', 'EC', 'LGSC', 'EC', 'EC', 'EC', 'LGSC', 'MC', 'HGSC', 'LGSC', 'EC', 'LGSC', 'LGSC', 'EC', 'EC', 'LGSC']\n",
      "pred labels: ['MC', 'EC', 'EC', 'EC', 'MC', 'EC', 'MC', 'EC', 'EC', 'EC', 'MC', 'EC', 'LGSC', 'EC', 'EC', 'EC', 'MC', 'EC', 'MC', 'EC', 'MC', 'LGSC', 'EC', 'EC', 'EC', 'MC', 'EC', 'EC', 'EC', 'MC', 'EC', 'MC']\n"
     ]
    }
   ],
   "source": [
    "predicted_batch = model.predict(test_image_batch)\n",
    "predicted_id = tf.math.argmax(predicted_batch, axis=-1,)\n",
    "test_labels = [labels[id] for id in test_label_batch]\n",
    "predicted_labels = [labels[id] for id in predicted_id]\n",
    "print(\"test labels:\",test_labels)\n",
    "print(\"pred labels:\",predicted_labels)"
   ]
  },
  {
   "cell_type": "markdown",
   "metadata": {},
   "source": [
    "\n",
    "Not quite quite good !!!"
   ]
  },
  {
   "cell_type": "markdown",
   "metadata": {},
   "source": [
    "## hyper-params tuning : TO DO "
   ]
  },
  {
   "cell_type": "code",
   "execution_count": 49,
   "metadata": {},
   "outputs": [
    {
     "data": {
      "text/plain": [
       "0"
      ]
     },
     "execution_count": 49,
     "metadata": {},
     "output_type": "execute_result"
    }
   ],
   "source": [
    "os.system('say \"End of fine-tuning\"')"
   ]
  }
 ],
 "metadata": {
  "kernelspec": {
   "display_name": "DL",
   "language": "python",
   "name": "python3"
  },
  "language_info": {
   "codemirror_mode": {
    "name": "ipython",
    "version": 3
   },
   "file_extension": ".py",
   "mimetype": "text/x-python",
   "name": "python",
   "nbconvert_exporter": "python",
   "pygments_lexer": "ipython3",
   "version": "3.11.5"
  }
 },
 "nbformat": 4,
 "nbformat_minor": 2
}
