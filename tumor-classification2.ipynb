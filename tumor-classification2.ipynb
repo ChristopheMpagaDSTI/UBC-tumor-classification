{
 "cells": [
  {
   "cell_type": "code",
   "execution_count": 1,
   "metadata": {},
   "outputs": [
    {
     "name": "stderr",
     "output_type": "stream",
     "text": [
      "2023-11-24 08:56:42.258980: I tensorflow/core/platform/cpu_feature_guard.cc:182] This TensorFlow binary is optimized to use available CPU instructions in performance-critical operations.\n",
      "To enable the following instructions: AVX2 FMA, in other operations, rebuild TensorFlow with the appropriate compiler flags.\n"
     ]
    }
   ],
   "source": [
    "import tensorflow as tf \n",
    "from tensorflow import keras\n",
    "from tensorflow.keras.applications.inception_v3 import InceptionV3\n",
    "from tensorflow.keras.preprocessing import image\n",
    "from tensorflow.keras.models import Model\n",
    "from tensorflow.keras.layers import Dense, GlobalAveragePooling2D\n",
    "import pandas as pd"
   ]
  },
  {
   "cell_type": "code",
   "execution_count": 2,
   "metadata": {},
   "outputs": [],
   "source": [
    "\n",
    "# load data \n",
    "train_csv = pd.read_csv(\"./train.csv\")"
   ]
  },
  {
   "cell_type": "code",
   "execution_count": 3,
   "metadata": {},
   "outputs": [
    {
     "data": {
      "text/html": [
       "<div>\n",
       "<style scoped>\n",
       "    .dataframe tbody tr th:only-of-type {\n",
       "        vertical-align: middle;\n",
       "    }\n",
       "\n",
       "    .dataframe tbody tr th {\n",
       "        vertical-align: top;\n",
       "    }\n",
       "\n",
       "    .dataframe thead th {\n",
       "        text-align: right;\n",
       "    }\n",
       "</style>\n",
       "<table border=\"1\" class=\"dataframe\">\n",
       "  <thead>\n",
       "    <tr style=\"text-align: right;\">\n",
       "      <th></th>\n",
       "      <th>image_id</th>\n",
       "      <th>label</th>\n",
       "      <th>image_width</th>\n",
       "      <th>image_height</th>\n",
       "      <th>is_tma</th>\n",
       "    </tr>\n",
       "  </thead>\n",
       "  <tbody>\n",
       "    <tr>\n",
       "      <th>0</th>\n",
       "      <td>4</td>\n",
       "      <td>HGSC</td>\n",
       "      <td>23785</td>\n",
       "      <td>20008</td>\n",
       "      <td>False</td>\n",
       "    </tr>\n",
       "    <tr>\n",
       "      <th>1</th>\n",
       "      <td>66</td>\n",
       "      <td>LGSC</td>\n",
       "      <td>48871</td>\n",
       "      <td>48195</td>\n",
       "      <td>False</td>\n",
       "    </tr>\n",
       "  </tbody>\n",
       "</table>\n",
       "</div>"
      ],
      "text/plain": [
       "   image_id label  image_width  image_height  is_tma\n",
       "0         4  HGSC        23785         20008   False\n",
       "1        66  LGSC        48871         48195   False"
      ]
     },
     "execution_count": 3,
     "metadata": {},
     "output_type": "execute_result"
    }
   ],
   "source": [
    "train_csv.head(2)"
   ]
  },
  {
   "cell_type": "code",
   "execution_count": 4,
   "metadata": {},
   "outputs": [
    {
     "name": "stdout",
     "output_type": "stream",
     "text": [
      "file count: 513\n"
     ]
    }
   ],
   "source": [
    "# count files \n",
    "import os\n",
    "\n",
    "count = 0\n",
    "for _, _, files_list in os.walk('./train_thumbnails/'):\n",
    "    count += len(files_list)\n",
    "print('file count:', count)\n"
   ]
  },
  {
   "cell_type": "code",
   "execution_count": 5,
   "metadata": {},
   "outputs": [],
   "source": [
    "source = './train_thumbnails/'\n",
    "files_list = os.listdir(source)\n",
    "labels = train_csv[\"label\"].unique().tolist()\n",
    "labels_list = train_csv[\"label\"].tolist()"
   ]
  },
  {
   "cell_type": "code",
   "execution_count": 6,
   "metadata": {},
   "outputs": [],
   "source": [
    "# split images into subfolders RUN ONCE \n",
    "# import shutil\n",
    "# i=0\n",
    "# for file in files_list :\n",
    "#      if (file not in labels ):\n",
    "#         shutil.move(\n",
    "#             source + file,\n",
    "#             f'{source}{labels_list[i]}/'\n",
    "#             )\n",
    "#         i += 1"
   ]
  },
  {
   "cell_type": "code",
   "execution_count": 7,
   "metadata": {},
   "outputs": [
    {
     "name": "stdout",
     "output_type": "stream",
     "text": [
      "Found 513 files belonging to 5 classes.\n",
      "Using 411 files for training.\n"
     ]
    }
   ],
   "source": [
    "# create data sets\n",
    "# train_dir = 'drive/MyDrive/DL_Class/DSTI_DL_project/train_thumbnails/'\n",
    "\n",
    "BATCH_SIZE = 32\n",
    "# IMG_SIZE = (160, 160)\n",
    "IMG_SIZE = (224, 224)\n",
    "\n",
    "train_dataset = tf.keras.utils.image_dataset_from_directory(source,\n",
    "                                                            labels = \"inferred\",\n",
    "                                                            shuffle=True,\n",
    "                                                            batch_size=BATCH_SIZE,\n",
    "                                                            image_size=IMG_SIZE,\n",
    "                                                            subset =\"training\",\n",
    "                                                            validation_split = 0.2,\n",
    "                                                            seed = 123)"
   ]
  },
  {
   "cell_type": "code",
   "execution_count": 8,
   "metadata": {},
   "outputs": [
    {
     "name": "stdout",
     "output_type": "stream",
     "text": [
      "Found 513 files belonging to 5 classes.\n",
      "Using 102 files for validation.\n"
     ]
    }
   ],
   "source": [
    "validation_dataset = tf.keras.utils.image_dataset_from_directory(source,\n",
    "                                                                 shuffle=True,\n",
    "                                                                 batch_size=BATCH_SIZE,\n",
    "                                                                 image_size=IMG_SIZE,\n",
    "                                                                 subset = \"validation\",\n",
    "                                                                 validation_split = 0.2,\n",
    "                                                            seed = 123)"
   ]
  },
  {
   "cell_type": "markdown",
   "metadata": {},
   "source": [
    "## Data visualization"
   ]
  },
  {
   "cell_type": "code",
   "execution_count": 9,
   "metadata": {},
   "outputs": [],
   "source": [
    "# import matplotlib.pyplot as plt \n",
    "# class_names = train_dataset.class_names\n",
    "\n",
    "# plt.figure(figsize=(10, 10))\n",
    "# for images, labels in train_dataset.take(1):\n",
    "#   for i in range(4):\n",
    "#     # print(class_names[labels[i]])\n",
    "#     ax = plt.subplot(2, 2, i + 1)\n",
    "#     plt.imshow(images[i].numpy().astype(\"uint8\"))\n",
    "#     plt.title(class_names[labels[i]])\n",
    "#     plt.axis(\"off\")"
   ]
  },
  {
   "cell_type": "code",
   "execution_count": 10,
   "metadata": {},
   "outputs": [
    {
     "name": "stdout",
     "output_type": "stream",
     "text": [
      "(32, 224, 224, 3)\n",
      "(32,)\n"
     ]
    }
   ],
   "source": [
    "# image batch \n",
    "for image_batch, labels_batch in train_dataset:\n",
    "  print(image_batch.shape)\n",
    "  print(labels_batch.shape)\n",
    "  break"
   ]
  },
  {
   "cell_type": "code",
   "execution_count": 11,
   "metadata": {},
   "outputs": [],
   "source": [
    "# test dataset\n",
    "val_batches = tf.data.experimental.cardinality(validation_dataset)\n",
    "test_dataset = validation_dataset.take(val_batches // 2)\n",
    "validation_dataset = validation_dataset.skip(val_batches // 2)"
   ]
  },
  {
   "cell_type": "code",
   "execution_count": 12,
   "metadata": {},
   "outputs": [
    {
     "name": "stdout",
     "output_type": "stream",
     "text": [
      "Number of validation batches: 2\n",
      "Number of test batches: 2\n"
     ]
    }
   ],
   "source": [
    "print('Number of validation batches: %d' % tf.data.experimental.cardinality(validation_dataset))\n",
    "print('Number of test batches: %d' % tf.data.experimental.cardinality(test_dataset))"
   ]
  },
  {
   "cell_type": "code",
   "execution_count": 13,
   "metadata": {},
   "outputs": [],
   "source": [
    "# Configure datasets for perf\n",
    "AUTOTUNE = tf.data.AUTOTUNE\n",
    "\n",
    "train_dataset = train_dataset.prefetch(buffer_size=AUTOTUNE)\n",
    "validation_dataset = validation_dataset.prefetch(buffer_size=AUTOTUNE)\n",
    "test_dataset = test_dataset.prefetch(buffer_size=AUTOTUNE)"
   ]
  },
  {
   "cell_type": "code",
   "execution_count": 14,
   "metadata": {},
   "outputs": [],
   "source": [
    "#  augmentation layers\n",
    "data_augmentation = tf.keras.Sequential([\n",
    "tf.keras.layers.RandomFlip('horizontal'),\n",
    "tf.keras.layers.RandomFlip('vertical'),\n",
    "tf.keras.layers.RandomFlip('horizontal_and_vertical'),\n",
    "tf.keras.layers.RandomRotation(factor=0.2),\n",
    "#new added layers\n",
    "tf.keras.layers.RandomCrop(IMG_SIZE[0], IMG_SIZE[1]),\n",
    "tf.keras.layers.Rescaling(scale=1.0 / 127.5, offset=-1),\n",
    "tf.keras.layers.RandomZoom(height_factor=0.1, width_factor=0.1)\n",
    "])"
   ]
  },
  {
   "cell_type": "code",
   "execution_count": 15,
   "metadata": {},
   "outputs": [],
   "source": [
    "# from tensorflow.keras import layers\n",
    "# from tensorflow.keras.models import Sequential\n",
    "# num_classes = len(labels)\n",
    "\n",
    "# model0 = Sequential([\n",
    "#   # layers.Rescaling(1./255, input_shape=(IMG_SIZE[0], IMG_SIZE[1], 3)),\n",
    "#   layers.Conv2D(16, 3, padding='same', activation='relu'),\n",
    "#   layers.MaxPooling2D(),\n",
    "#   layers.Conv2D(32, 3, padding='same', activation='relu'),\n",
    "#   layers.MaxPooling2D(),\n",
    "#   layers.Conv2D(64, 3, padding='same', activation='relu'),\n",
    "#   layers.MaxPooling2D(),\n",
    "#   layers.Flatten(),\n",
    "#   layers.Dense(128, activation='relu'),\n",
    "#   layers.Dense(num_classes)\n",
    "# ])"
   ]
  },
  {
   "cell_type": "markdown",
   "metadata": {},
   "source": [
    "## Features extraction "
   ]
  },
  {
   "cell_type": "markdown",
   "metadata": {},
   "source": [
    "InceptionResnetV2  \n",
    "MobileNetV3 \n",
    "MobileNetV3Small  \n",
    "Xception  49%\n",
    "ResNet50\n"
   ]
  },
  {
   "cell_type": "code",
   "execution_count": 16,
   "metadata": {},
   "outputs": [],
   "source": [
    "# create the base pre-trained model\n",
    "base_model = tf.keras.applications.DenseNet121(\n",
    "    include_top=False,\n",
    "    weights=\"imagenet\",\n",
    "    input_tensor=None,\n",
    "    # input_shape=(224, 224, 3),\n",
    "    pooling=None,\n",
    "    classes=5,\n",
    "    classifier_activation=\"softmax\",\n",
    ")"
   ]
  },
  {
   "cell_type": "code",
   "execution_count": 17,
   "metadata": {},
   "outputs": [],
   "source": [
    "base_model.trainable = False"
   ]
  },
  {
   "cell_type": "code",
   "execution_count": 18,
   "metadata": {},
   "outputs": [],
   "source": [
    "#\n",
    "preprocess_input = tf.keras.applications.densenet.preprocess_input"
   ]
  },
  {
   "cell_type": "code",
   "execution_count": 19,
   "metadata": {},
   "outputs": [],
   "source": [
    "# image_batch,_= next(iter(train_dataset))\n",
    "# base_model(image_batch).shape"
   ]
  },
  {
   "cell_type": "code",
   "execution_count": 20,
   "metadata": {},
   "outputs": [],
   "source": [
    "# add a global spatial average pooling layer\n",
    "inputs = keras.Input(shape=(224, 224, 3))\n",
    "x = data_augmentation(inputs)\n",
    "x = tf.image.stateless_random_contrast(x, lower=0.1, upper=0.9, seed=123)\n",
    "x = tf.image.stateless_random_brightness(x, max_delta=0.5, seed=123)\n",
    "x = tf.image.stateless_random_flip_left_right(x,seed=123)\n",
    "x = tf.image.stateless_random_flip_up_down(x,seed=123)\n",
    "x = preprocess_input(x)\n",
    "x = base_model(x,training = False)\n",
    "x = GlobalAveragePooling2D()(x)\n",
    "x = Dense(1024, activation='relu')(x)\n",
    "x = tf.keras.layers.Dropout(0.2)(x)\n",
    "predictions = Dense(5, activation='softmax')(x)\n"
   ]
  },
  {
   "cell_type": "code",
   "execution_count": 21,
   "metadata": {},
   "outputs": [],
   "source": [
    "# this is the model we will train\n",
    "model = Model(inputs= inputs, outputs=predictions)"
   ]
  },
  {
   "cell_type": "code",
   "execution_count": 22,
   "metadata": {},
   "outputs": [
    {
     "data": {
      "text/plain": [
       "4"
      ]
     },
     "execution_count": 22,
     "metadata": {},
     "output_type": "execute_result"
    }
   ],
   "source": [
    "len(model.trainable_variables)"
   ]
  },
  {
   "cell_type": "code",
   "execution_count": 23,
   "metadata": {},
   "outputs": [],
   "source": [
    "# compile model \n",
    "base_learning_rate = 1e-6\n",
    "model.compile(tf.keras.optimizers.RMSprop(learning_rate=base_learning_rate),\n",
    "# optimizer=tf.keras.optimizers.Adam(learning_rate=base_learning_rate),\n",
    "              loss=tf.keras.losses.SparseCategoricalCrossentropy(from_logits=False),\n",
    "              metrics=\"accuracy\")\n",
    "\n",
    "# tensorboard \n",
    "import datetime\n",
    "log_dir = \"logs/fit/\" + datetime.datetime.now().strftime(\"%Y%m%d-%H%M%S\")\n",
    "tensorboard_callback = tf.keras.callbacks.TensorBoard(\n",
    "    log_dir=log_dir,\n",
    "    histogram_freq=1) # Enable histogram computation for every epoch."
   ]
  },
  {
   "cell_type": "code",
   "execution_count": 49,
   "metadata": {},
   "outputs": [
    {
     "name": "stdout",
     "output_type": "stream",
     "text": [
      "2/2 [==============================] - 10s 643ms/step - loss: 1.4195 - accuracy: 0.5263\n"
     ]
    }
   ],
   "source": [
    "initial_epochs =20\n",
    "\n",
    "loss0,accuracy0 = model.evaluate(validation_dataset)"
   ]
  },
  {
   "cell_type": "code",
   "execution_count": 50,
   "metadata": {},
   "outputs": [],
   "source": [
    "# first: train only the top layers (which were randomly initialized)\n",
    "# i.e. freeze all convolutional InceptionV3 layers\n",
    "# for layer in base_model.layers:\n",
    "#     layer.trainable = False\n"
   ]
  },
  {
   "cell_type": "code",
   "execution_count": 51,
   "metadata": {},
   "outputs": [
    {
     "name": "stdout",
     "output_type": "stream",
     "text": [
      "Epoch 1/20\n",
      "13/13 [==============================] - 76s 5s/step - loss: 1.5853 - accuracy: 0.2993 - val_loss: 1.4538 - val_accuracy: 0.4737\n",
      "Epoch 2/20\n",
      "13/13 [==============================] - 83s 5s/step - loss: 1.5542 - accuracy: 0.3577 - val_loss: 1.5406 - val_accuracy: 0.3947\n",
      "Epoch 3/20\n",
      "13/13 [==============================] - 81s 5s/step - loss: 1.5676 - accuracy: 0.2968 - val_loss: 1.4194 - val_accuracy: 0.5263\n",
      "Epoch 4/20\n",
      "13/13 [==============================] - 81s 5s/step - loss: 1.5639 - accuracy: 0.2920 - val_loss: 1.4177 - val_accuracy: 0.4474\n",
      "Epoch 5/20\n",
      "13/13 [==============================] - 73s 4s/step - loss: 1.5614 - accuracy: 0.2871 - val_loss: 1.4899 - val_accuracy: 0.4474\n",
      "Epoch 6/20\n",
      "13/13 [==============================] - 73s 5s/step - loss: 1.5632 - accuracy: 0.3236 - val_loss: 1.4310 - val_accuracy: 0.5000\n",
      "Epoch 7/20\n",
      "13/13 [==============================] - 90s 6s/step - loss: 1.5721 - accuracy: 0.2822 - val_loss: 1.4335 - val_accuracy: 0.5000\n",
      "Epoch 8/20\n",
      "13/13 [==============================] - 82s 5s/step - loss: 1.5724 - accuracy: 0.2798 - val_loss: 1.4527 - val_accuracy: 0.5000\n",
      "Epoch 9/20\n",
      "13/13 [==============================] - 82s 5s/step - loss: 1.5541 - accuracy: 0.3090 - val_loss: 1.4636 - val_accuracy: 0.4474\n",
      "Epoch 10/20\n",
      "13/13 [==============================] - 93s 6s/step - loss: 1.5807 - accuracy: 0.2774 - val_loss: 1.4497 - val_accuracy: 0.4737\n",
      "Epoch 11/20\n",
      "13/13 [==============================] - 86s 5s/step - loss: 1.5640 - accuracy: 0.2798 - val_loss: 1.4427 - val_accuracy: 0.4737\n",
      "Epoch 12/20\n",
      "13/13 [==============================] - 103s 6s/step - loss: 1.5849 - accuracy: 0.2482 - val_loss: 1.5414 - val_accuracy: 0.3421\n",
      "Epoch 13/20\n",
      "13/13 [==============================] - 84s 5s/step - loss: 1.5611 - accuracy: 0.3041 - val_loss: 1.4481 - val_accuracy: 0.5263\n",
      "Epoch 14/20\n",
      "13/13 [==============================] - 94s 6s/step - loss: 1.5847 - accuracy: 0.2774 - val_loss: 1.4456 - val_accuracy: 0.4737\n",
      "Epoch 15/20\n",
      "13/13 [==============================] - 84s 5s/step - loss: 1.5752 - accuracy: 0.3066 - val_loss: 1.4377 - val_accuracy: 0.5000\n",
      "Epoch 16/20\n",
      "13/13 [==============================] - 85s 5s/step - loss: 1.5664 - accuracy: 0.2895 - val_loss: 1.4497 - val_accuracy: 0.3947\n",
      "Epoch 17/20\n",
      "13/13 [==============================] - 85s 5s/step - loss: 1.5847 - accuracy: 0.2895 - val_loss: 1.4562 - val_accuracy: 0.4474\n",
      "Epoch 18/20\n",
      "13/13 [==============================] - 90s 6s/step - loss: 1.5590 - accuracy: 0.3017 - val_loss: 1.4852 - val_accuracy: 0.3947\n",
      "Epoch 19/20\n",
      "13/13 [==============================] - 83s 5s/step - loss: 1.5793 - accuracy: 0.2701 - val_loss: 1.4560 - val_accuracy: 0.4474\n",
      "Epoch 20/20\n",
      "13/13 [==============================] - 82s 5s/step - loss: 1.5691 - accuracy: 0.3066 - val_loss: 1.4724 - val_accuracy: 0.4474\n"
     ]
    }
   ],
   "source": [
    "# train the model on the new data for a few epochs\n",
    "history = model.fit(train_dataset,\n",
    "          epochs=initial_epochs,\n",
    "          validation_data = validation_dataset,\n",
    "          callbacks=tensorboard_callback,\n",
    "          use_multiprocessing=True)\n"
   ]
  },
  {
   "cell_type": "markdown",
   "metadata": {},
   "source": [
    "## learning curve "
   ]
  },
  {
   "cell_type": "code",
   "execution_count": 52,
   "metadata": {},
   "outputs": [
    {
     "data": {
      "image/png": "[encoded data removed]",
      "text/plain": [
       "<Figure size 1000x400 with 2 Axes>"
      ]
     },
     "metadata": {},
     "output_type": "display_data"
    }
   ],
   "source": [
    "# plot training and validation metrics\n",
    "import matplotlib.pyplot as plt\n",
    "acc = history.history['accuracy']\n",
    "val_acc = history.history['val_accuracy']\n",
    "\n",
    "loss = history.history['loss']\n",
    "val_loss = history.history['val_loss']\n",
    "\n",
    "plt.figure(figsize=(10, 4))\n",
    "plt.subplot(1, 2, 1)\n",
    "plt.plot(acc, label='Training Accuracy')\n",
    "plt.plot(val_acc, label='Validation Accuracy')\n",
    "plt.legend(loc='upper right')\n",
    "plt.ylabel('Accuracy')\n",
    "plt.ylim([min(plt.ylim()),1])\n",
    "plt.title('Training and Validation Accuracy')\n",
    "\n",
    "plt.subplot(1, 2, 2)\n",
    "plt.plot(loss, label='Training Loss')\n",
    "plt.plot(val_loss, label='Validation Loss')\n",
    "plt.legend(loc='upper right')\n",
    "plt.ylabel('Cross Entropy')\n",
    "plt.ylim([0,10])\n",
    "plt.title('Training and Validation Loss')\n",
    "plt.xlabel('epoch')\n",
    "plt.show()"
   ]
  },
  {
   "cell_type": "code",
   "execution_count": 53,
   "metadata": {},
   "outputs": [
    {
     "data": {
      "text/plain": [
       "0"
      ]
     },
     "execution_count": 53,
     "metadata": {},
     "output_type": "execute_result"
    }
   ],
   "source": [
    "\n",
    "os.system('say \"end features extraction\" ')"
   ]
  },
  {
   "cell_type": "markdown",
   "metadata": {},
   "source": [
    "## Fine-tuning "
   ]
  },
  {
   "cell_type": "code",
   "execution_count": 54,
   "metadata": {},
   "outputs": [],
   "source": [
    "# un-freeze model weights\n",
    "base_model.trainable = True"
   ]
  },
  {
   "cell_type": "code",
   "execution_count": 55,
   "metadata": {},
   "outputs": [
    {
     "name": "stdout",
     "output_type": "stream",
     "text": [
      "427\n"
     ]
    }
   ],
   "source": [
    "# let's visualize layer names and layer indices to see how many layers\n",
    "# we should freeze:\n",
    "n_layers = len(base_model.layers)\n",
    "print(n_layers)\n",
    "# for i, layer in enumerate(base_model.layers):\n",
    "#    print(i, layer.name)"
   ]
  },
  {
   "cell_type": "code",
   "execution_count": 56,
   "metadata": {},
   "outputs": [
    {
     "data": {
      "text/plain": [
       "320"
      ]
     },
     "execution_count": 56,
     "metadata": {},
     "output_type": "execute_result"
    }
   ],
   "source": [
    "n_layers*3//4"
   ]
  },
  {
   "cell_type": "code",
   "execution_count": 57,
   "metadata": {},
   "outputs": [],
   "source": [
    "\n",
    "# we chose to train the top 2 inception blocks, i.e. we will freeze\n",
    "# the first 249 layers and unfreeze the rest:\n",
    "n_trainable_layers = n_layers*3//4\n",
    "for layer in model.layers[:n_trainable_layers]:\n",
    "   layer.trainable = False\n",
    "for layer in model.layers[n_trainable_layers:]:\n",
    "   layer.trainable = True\n"
   ]
  },
  {
   "cell_type": "code",
   "execution_count": 58,
   "metadata": {},
   "outputs": [
    {
     "name": "stdout",
     "output_type": "stream",
     "text": [
      "Epoch 20/30\n",
      "13/13 [==============================] - 95s 5s/step - loss: 1.5768 - accuracy: 0.2920 - val_loss: 1.5261 - val_accuracy: 0.3947\n",
      "Epoch 21/30\n",
      "13/13 [==============================] - 79s 5s/step - loss: 1.5661 - accuracy: 0.2920 - val_loss: 1.4618 - val_accuracy: 0.4474\n",
      "Epoch 22/30\n",
      "13/13 [==============================] - 97s 6s/step - loss: 1.5904 - accuracy: 0.2822 - val_loss: 1.4614 - val_accuracy: 0.4474\n",
      "Epoch 23/30\n",
      "13/13 [==============================] - 80s 5s/step - loss: 1.5820 - accuracy: 0.3017 - val_loss: 1.4319 - val_accuracy: 0.4737\n",
      "Epoch 24/30\n",
      "13/13 [==============================] - 83s 5s/step - loss: 1.5719 - accuracy: 0.2798 - val_loss: 1.4798 - val_accuracy: 0.4211\n",
      "Epoch 25/30\n",
      "13/13 [==============================] - 80s 5s/step - loss: 1.5696 - accuracy: 0.3114 - val_loss: 1.4334 - val_accuracy: 0.5000\n",
      "Epoch 26/30\n",
      "13/13 [==============================] - 79s 5s/step - loss: 1.5789 - accuracy: 0.2895 - val_loss: 1.4400 - val_accuracy: 0.5526\n",
      "Epoch 27/30\n",
      "13/13 [==============================] - 83s 5s/step - loss: 1.5669 - accuracy: 0.2920 - val_loss: 1.4066 - val_accuracy: 0.5263\n",
      "Epoch 28/30\n",
      "13/13 [==============================] - 89s 5s/step - loss: 1.5733 - accuracy: 0.2968 - val_loss: 1.4838 - val_accuracy: 0.3947\n",
      "Epoch 29/30\n",
      "13/13 [==============================] - 93s 6s/step - loss: 1.5667 - accuracy: 0.3041 - val_loss: 1.4054 - val_accuracy: 0.5789\n",
      "Epoch 30/30\n",
      "13/13 [==============================] - 95s 6s/step - loss: 1.5778 - accuracy: 0.3066 - val_loss: 1.4500 - val_accuracy: 0.4737\n"
     ]
    }
   ],
   "source": [
    "# from tensorflow.keras.optimizers import SGD\n",
    "model.compile(optimizer=tf.keras.optimizers.Adam(learning_rate=base_learning_rate/10), \n",
    "              loss=tf.keras.losses.SparseCategoricalCrossentropy(from_logits=False),\n",
    "              metrics = \"accuracy\")\n",
    "\n",
    "# we train our model again (this time fine-tuning the top 2 inception blocks\n",
    "# alongside the top Dense layers\n",
    "fine_tune_epochs = 10\n",
    "total_epochs = initial_epochs + fine_tune_epochs\n",
    "history_fine = model.fit(train_dataset,\n",
    "          epochs=total_epochs,\n",
    "          initial_epoch = history.epoch[-1],\n",
    "          validation_data = validation_dataset,\n",
    "          callbacks=tensorboard_callback,\n",
    "          use_multiprocessing=True)"
   ]
  },
  {
   "cell_type": "code",
   "execution_count": 59,
   "metadata": {},
   "outputs": [],
   "source": [
    "acc += history_fine.history['accuracy']\n",
    "val_acc += history_fine.history['val_accuracy']\n",
    "\n",
    "loss += history_fine.history['loss']\n",
    "val_loss += history_fine.history['val_loss']"
   ]
  },
  {
   "cell_type": "code",
   "execution_count": 66,
   "metadata": {},
   "outputs": [
    {
     "data": {
      "image/png": "[encoded data removed]",
      "text/plain": [
       "<Figure size 800x800 with 2 Axes>"
      ]
     },
     "metadata": {},
     "output_type": "display_data"
    }
   ],
   "source": [
    "# plot training and validation metrics\n",
    "import matplotlib.pyplot as plt\n",
    "# acc = history.history['accuracy']\n",
    "# val_acc = history.history['val_accuracy']\n",
    "\n",
    "# loss = history.history['loss']\n",
    "# val_loss = history.history['val_loss']\n",
    "\n",
    "plt.figure(figsize=(8, 8))\n",
    "plt.subplot(2, 1, 1)\n",
    "plt.plot(acc, label='Training Accuracy')\n",
    "plt.plot(val_acc, label='Validation Accuracy')\n",
    "# plt.ylim([0.8, 1])\n",
    "plt.plot([initial_epochs-1,initial_epochs-1],\n",
    "          plt.ylim(), label='Start Fine Tuning')\n",
    "plt.legend(loc='lower right')\n",
    "plt.title('Training and Validation Accuracy')\n",
    "\n",
    "plt.subplot(2, 1, 2)\n",
    "plt.plot(loss, label='Training Loss')\n",
    "plt.plot(val_loss, label='Validation Loss')\n",
    "# plt.ylim([0, 1.0])\n",
    "plt.plot([initial_epochs-1,initial_epochs-1],\n",
    "         plt.ylim(), label='Start Fine Tuning')\n",
    "plt.legend(loc='upper right')\n",
    "plt.title('Training and Validation Loss')\n",
    "plt.xlabel('epoch')\n",
    "plt.show()"
   ]
  },
  {
   "cell_type": "code",
   "execution_count": 61,
   "metadata": {},
   "outputs": [
    {
     "name": "stdout",
     "output_type": "stream",
     "text": [
      "2/2 [==============================] - 13s 4s/step - loss: 1.4792 - accuracy: 0.4219\n"
     ]
    }
   ],
   "source": [
    "loss, accuracy = model.evaluate(test_dataset)\n",
    "# print('Test accuracy :', accuracy)"
   ]
  },
  {
   "cell_type": "code",
   "execution_count": 62,
   "metadata": {},
   "outputs": [],
   "source": [
    "test_image_batch,test_label_batch = next(iter(test_dataset))"
   ]
  },
  {
   "cell_type": "code",
   "execution_count": 63,
   "metadata": {
    "tags": [
     "Predictions"
    ]
   },
   "outputs": [
    {
     "name": "stderr",
     "output_type": "stream",
     "text": [
      "2023-11-24 10:55:52.797387: W tensorflow/core/grappler/optimizers/loop_optimizer.cc:933] Skipping loop optimization for Merge node with control input: model/sequential/random_crop/cond/branch_executed/_10\n"
     ]
    },
    {
     "name": "stdout",
     "output_type": "stream",
     "text": [
      "1/1 [==============================] - 6s 6s/step\n",
      "test labels: ['HGSC', 'EC', 'HGSC', 'EC', 'CC', 'EC', 'EC', 'MC', 'EC', 'LGSC', 'HGSC', 'LGSC', 'HGSC', 'LGSC', 'EC', 'LGSC', 'MC', 'EC', 'LGSC', 'EC', 'EC', 'HGSC', 'EC', 'EC', 'HGSC', 'EC', 'EC', 'EC', 'MC', 'HGSC', 'MC', 'EC']\n",
      "pred labels: ['EC', 'EC', 'EC', 'EC', 'EC', 'EC', 'EC', 'EC', 'EC', 'EC', 'EC', 'EC', 'EC', 'EC', 'EC', 'EC', 'EC', 'EC', 'EC', 'EC', 'EC', 'EC', 'EC', 'EC', 'EC', 'EC', 'EC', 'EC', 'EC', 'EC', 'EC', 'EC']\n"
     ]
    }
   ],
   "source": [
    "predicted_batch = model.predict(test_image_batch)\n",
    "predicted_id = tf.math.argmax(predicted_batch, axis=-1,)\n",
    "test_labels = [labels[id] for id in test_label_batch]\n",
    "predicted_labels = [labels[id] for id in predicted_id]\n",
    "print(\"test labels:\",test_labels)\n",
    "print(\"pred labels:\",predicted_labels)"
   ]
  },
  {
   "cell_type": "markdown",
   "metadata": {},
   "source": [
    "\n",
    "Not quite quite good !!!"
   ]
  },
  {
   "cell_type": "code",
   "execution_count": 64,
   "metadata": {},
   "outputs": [
    {
     "data": {
      "text/plain": [
       "0"
      ]
     },
     "execution_count": 64,
     "metadata": {},
     "output_type": "execute_result"
    }
   ],
   "source": [
    "os.system('say \"End of file\"')"
   ]
  }
 ],
 "metadata": {
  "kernelspec": {
   "display_name": "DL",
   "language": "python",
   "name": "python3"
  },
  "language_info": {
   "codemirror_mode": {
    "name": "ipython",
    "version": 3
   },
   "file_extension": ".py",
   "mimetype": "text/x-python",
   "name": "python",
   "nbconvert_exporter": "python",
   "pygments_lexer": "ipython3",
   "version": "3.11.5"
  }
 },
 "nbformat": 4,
 "nbformat_minor": 2
}
